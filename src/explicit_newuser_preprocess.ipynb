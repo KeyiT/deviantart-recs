{
 "cells": [
  {
   "cell_type": "markdown",
   "metadata": {},
   "source": [
    "# Implicit CF"
   ]
  },
  {
   "cell_type": "code",
   "execution_count": 1,
   "metadata": {},
   "outputs": [],
   "source": [
    "import pandas as pd\n",
    "import os\n",
    "import numpy as np\n",
    "import seaborn as sns\n",
    "import json\n",
    "\n",
    "\n",
    "from scipy.sparse import coo_matrix, csr_matrix, save_npz"
   ]
  },
  {
   "cell_type": "markdown",
   "metadata": {},
   "source": [
    "# EDA"
   ]
  },
  {
   "cell_type": "code",
   "execution_count": 2,
   "metadata": {},
   "outputs": [],
   "source": [
    "DATA_FOLDER = \"../input\"\n",
    "TMP_FOLDER = os.path.join(DATA_FOLDER, \"tmp\")\n",
    "\n",
    "csv_data_filename = 'exercise.interactions.csv'"
   ]
  },
  {
   "cell_type": "code",
   "execution_count": 3,
   "metadata": {},
   "outputs": [],
   "source": [
    "src_df = pd.read_csv(os.path.join(DATA_FOLDER, csv_data_filename), dtype=str)"
   ]
  },
  {
   "cell_type": "markdown",
   "metadata": {},
   "source": [
    "#### Column Info"
   ]
  },
  {
   "cell_type": "code",
   "execution_count": 4,
   "metadata": {},
   "outputs": [
    {
     "name": "stdout",
     "output_type": "stream",
     "text": [
      "<class 'pandas.core.frame.DataFrame'>\n",
      "RangeIndex: 3637044 entries, 0 to 3637043\n",
      "Data columns (total 4 columns):\n",
      "USER_ID       object\n",
      "ITEM_ID       object\n",
      "TIMESTAMP     object\n",
      "EVENT_TYPE    object\n",
      "dtypes: object(4)\n",
      "memory usage: 111.0+ MB\n"
     ]
    }
   ],
   "source": [
    "src_df.info()"
   ]
  },
  {
   "cell_type": "markdown",
   "metadata": {},
   "source": [
    "#### Example:"
   ]
  },
  {
   "cell_type": "code",
   "execution_count": 5,
   "metadata": {},
   "outputs": [
    {
     "data": {
      "text/html": [
       "<div>\n",
       "<style scoped>\n",
       "    .dataframe tbody tr th:only-of-type {\n",
       "        vertical-align: middle;\n",
       "    }\n",
       "\n",
       "    .dataframe tbody tr th {\n",
       "        vertical-align: top;\n",
       "    }\n",
       "\n",
       "    .dataframe thead th {\n",
       "        text-align: right;\n",
       "    }\n",
       "</style>\n",
       "<table border=\"1\" class=\"dataframe\">\n",
       "  <thead>\n",
       "    <tr style=\"text-align: right;\">\n",
       "      <th></th>\n",
       "      <th>USER_ID</th>\n",
       "      <th>ITEM_ID</th>\n",
       "      <th>TIMESTAMP</th>\n",
       "      <th>EVENT_TYPE</th>\n",
       "    </tr>\n",
       "  </thead>\n",
       "  <tbody>\n",
       "    <tr>\n",
       "      <th>0</th>\n",
       "      <td>0001c4d4-13af-44c6-b653-a249ce2b2c7e</td>\n",
       "      <td>4644261659414259286</td>\n",
       "      <td>1553269070</td>\n",
       "      <td>submit</td>\n",
       "    </tr>\n",
       "    <tr>\n",
       "      <th>1</th>\n",
       "      <td>00042f84-5e34-4dd7-a459-cb8310457f2f</td>\n",
       "      <td>13388854895967500321</td>\n",
       "      <td>1553303518</td>\n",
       "      <td>submit</td>\n",
       "    </tr>\n",
       "    <tr>\n",
       "      <th>2</th>\n",
       "      <td>0005f128-5aee-43c1-8c44-eb1fe019179e</td>\n",
       "      <td>7269739074656998882</td>\n",
       "      <td>1553250200</td>\n",
       "      <td>submit</td>\n",
       "    </tr>\n",
       "    <tr>\n",
       "      <th>3</th>\n",
       "      <td>000810a5-8eff-47d6-9ead-97add9e07211</td>\n",
       "      <td>18406351456112377421</td>\n",
       "      <td>1553262896</td>\n",
       "      <td>submit</td>\n",
       "    </tr>\n",
       "    <tr>\n",
       "      <th>4</th>\n",
       "      <td>000a3365-cab3-41db-b67f-09988b5deff0</td>\n",
       "      <td>9595719689128501283</td>\n",
       "      <td>1553306334</td>\n",
       "      <td>submit</td>\n",
       "    </tr>\n",
       "  </tbody>\n",
       "</table>\n",
       "</div>"
      ],
      "text/plain": [
       "                                USER_ID               ITEM_ID   TIMESTAMP  \\\n",
       "0  0001c4d4-13af-44c6-b653-a249ce2b2c7e   4644261659414259286  1553269070   \n",
       "1  00042f84-5e34-4dd7-a459-cb8310457f2f  13388854895967500321  1553303518   \n",
       "2  0005f128-5aee-43c1-8c44-eb1fe019179e   7269739074656998882  1553250200   \n",
       "3  000810a5-8eff-47d6-9ead-97add9e07211  18406351456112377421  1553262896   \n",
       "4  000a3365-cab3-41db-b67f-09988b5deff0   9595719689128501283  1553306334   \n",
       "\n",
       "  EVENT_TYPE  \n",
       "0     submit  \n",
       "1     submit  \n",
       "2     submit  \n",
       "3     submit  \n",
       "4     submit  "
      ]
     },
     "execution_count": 5,
     "metadata": {},
     "output_type": "execute_result"
    }
   ],
   "source": [
    "src_df.head()"
   ]
  },
  {
   "cell_type": "markdown",
   "metadata": {},
   "source": [
    "#### Data Info"
   ]
  },
  {
   "cell_type": "code",
   "execution_count": 6,
   "metadata": {},
   "outputs": [
    {
     "name": "stdout",
     "output_type": "stream",
     "text": [
      "number of interactions: 3637044\n",
      "number of interactions after drop duplicates: 1484421\n",
      "number of unique users: 97156\n",
      "number of unique items: 224858\n"
     ]
    }
   ],
   "source": [
    "print(\"number of interactions: \" + str(src_df.shape[0]))\n",
    "print(\"number of interactions after drop duplicates: \" + str(src_df.drop_duplicates(subset=['USER_ID', 'ITEM_ID']).shape[0]))\n",
    "print(\"number of unique users: \" + str(src_df['USER_ID'].unique().shape[0]))\n",
    "print(\"number of unique items: \" + str(src_df['ITEM_ID'].unique().shape[0]))"
   ]
  },
  {
   "cell_type": "code",
   "execution_count": 7,
   "metadata": {},
   "outputs": [
    {
     "name": "stdout",
     "output_type": "stream",
     "text": [
      "event types:\n"
     ]
    },
    {
     "data": {
      "text/plain": [
       "['submit', 'comment', 'favourite', 'view']"
      ]
     },
     "execution_count": 7,
     "metadata": {},
     "output_type": "execute_result"
    }
   ],
   "source": [
    "print(\"event types:\")\n",
    "src_df['EVENT_TYPE'].unique().tolist()"
   ]
  },
  {
   "cell_type": "code",
   "execution_count": 8,
   "metadata": {},
   "outputs": [],
   "source": [
    "interest_mask = src_df['EVENT_TYPE'].isin(['submit', 'comment', 'favourite'])"
   ]
  },
  {
   "cell_type": "markdown",
   "metadata": {},
   "source": [
    "#### Item Cardinality Per User"
   ]
  },
  {
   "cell_type": "code",
   "execution_count": 9,
   "metadata": {},
   "outputs": [],
   "source": [
    "groups = src_df[interest_mask].groupby('USER_ID')\n",
    "group_size = groups.size()"
   ]
  },
  {
   "cell_type": "code",
   "execution_count": 10,
   "metadata": {},
   "outputs": [
    {
     "name": "stdout",
     "output_type": "stream",
     "text": [
      "(56817,)\n"
     ]
    },
    {
     "data": {
      "text/plain": [
       "<matplotlib.axes._subplots.AxesSubplot at 0x10bbd7b38>"
      ]
     },
     "execution_count": 10,
     "metadata": {},
     "output_type": "execute_result"
    },
    {
     "data": {
      "image/png": "[encoded data removed]",
      "text/plain": [
       "<Figure size 432x288 with 1 Axes>"
      ]
     },
     "metadata": {
      "needs_background": "light"
     },
     "output_type": "display_data"
    }
   ],
   "source": [
    "print(group_size[group_size > 0].shape)\n",
    "sns.distplot(group_size[group_size > 0])"
   ]
  },
  {
   "cell_type": "markdown",
   "metadata": {},
   "source": [
    "#### User Cardinality Per Item"
   ]
  },
  {
   "cell_type": "code",
   "execution_count": 11,
   "metadata": {},
   "outputs": [],
   "source": [
    "groups = src_df[interest_mask].groupby('ITEM_ID')\n",
    "group_size = groups.size()"
   ]
  },
  {
   "cell_type": "code",
   "execution_count": 12,
   "metadata": {},
   "outputs": [
    {
     "name": "stdout",
     "output_type": "stream",
     "text": [
      "(224858,)\n"
     ]
    },
    {
     "data": {
      "text/plain": [
       "<matplotlib.axes._subplots.AxesSubplot at 0x10ec4f940>"
      ]
     },
     "execution_count": 12,
     "metadata": {},
     "output_type": "execute_result"
    },
    {
     "data": {
      "image/png": "[encoded data removed]",
      "text/plain": [
       "<Figure size 432x288 with 1 Axes>"
      ]
     },
     "metadata": {
      "needs_background": "light"
     },
     "output_type": "display_data"
    }
   ],
   "source": [
    "print(group_size[group_size > 0].shape)\n",
    "sns.distplot(group_size[group_size > 0])"
   ]
  },
  {
   "cell_type": "markdown",
   "metadata": {},
   "source": [
    "# Preprocessing"
   ]
  },
  {
   "cell_type": "code",
   "execution_count": 13,
   "metadata": {},
   "outputs": [],
   "source": [
    "# Remove new users\n",
    "groups = src_df.groupby('USER_ID')\n",
    "group_size = groups.size()\n",
    "user_index_pd = group_size[(group_size >= 100) & (group_size < 1500)].index\n",
    "src_df = src_df[src_df['USER_ID'].isin(user_index_pd)]\n",
    "src_df.reset_index(drop=True, inplace=True)"
   ]
  },
  {
   "cell_type": "code",
   "execution_count": 14,
   "metadata": {},
   "outputs": [
    {
     "name": "stdout",
     "output_type": "stream",
     "text": [
      "number of interactions: 1992334\n",
      "number of unique users: 7917\n",
      "number of unique items: 152053\n"
     ]
    }
   ],
   "source": [
    "print(\"number of interactions: \" + str(src_df.shape[0]))\n",
    "print(\"number of unique users: \" + str(src_df['USER_ID'].unique().shape[0]))\n",
    "print(\"number of unique items: \" + str(src_df['ITEM_ID'].unique().shape[0]))"
   ]
  },
  {
   "cell_type": "markdown",
   "metadata": {},
   "source": [
    "# Convert To Explicit Matrix"
   ]
  },
  {
   "cell_type": "markdown",
   "metadata": {},
   "source": [
    "#### Generate Metadata"
   ]
  },
  {
   "cell_type": "code",
   "execution_count": 15,
   "metadata": {},
   "outputs": [],
   "source": [
    "metadata = dict()"
   ]
  },
  {
   "cell_type": "code",
   "execution_count": 16,
   "metadata": {},
   "outputs": [],
   "source": [
    "# user id to index\n",
    "user_ids = src_df['USER_ID'].unique().tolist()\n",
    "user_index = dict([(user_ids[i], i) for i in range(len(user_ids))])"
   ]
  },
  {
   "cell_type": "code",
   "execution_count": 17,
   "metadata": {},
   "outputs": [],
   "source": [
    "# item id to index\n",
    "item_ids = src_df['ITEM_ID'].unique().tolist()\n",
    "item_index = dict([(item_ids[i], i) for i in range(len(item_ids))])"
   ]
  },
  {
   "cell_type": "code",
   "execution_count": 18,
   "metadata": {},
   "outputs": [],
   "source": [
    "metadata['user_index'] = user_index\n",
    "metadata['item_index'] = item_index"
   ]
  },
  {
   "cell_type": "markdown",
   "metadata": {},
   "source": [
    "#### Split Train and Test Set"
   ]
  },
  {
   "cell_type": "code",
   "execution_count": 19,
   "metadata": {},
   "outputs": [
    {
     "name": "stderr",
     "output_type": "stream",
     "text": [
      "/Users/keyitang/miniconda3/envs/deviantart/lib/python3.6/site-packages/ipykernel_launcher.py:2: SettingWithCopyWarning: \n",
      "A value is trying to be set on a copy of a slice from a DataFrame.\n",
      "Try using .loc[row_indexer,col_indexer] = value instead\n",
      "\n",
      "See the caveats in the documentation: http://pandas.pydata.org/pandas-docs/stable/indexing.html#indexing-view-versus-copy\n",
      "  \n"
     ]
    }
   ],
   "source": [
    "tmp_id = np.asarray(list(range(src_df.shape[0])))\n",
    "src_df['tmp_id'] = tmp_id\n",
    "\n",
    "num_training_data = [2, 3, 5, 7, 10, 15]\n",
    "user_ids = src_df['USER_ID'].unique()\n",
    "np.random.shuffle(user_ids)\n",
    "\n",
    "user_ids_train = user_ids[0:int(user_ids.shape[0]*0.7)]\n",
    "user_ids = user_ids[user_ids_train.shape[0]:]\n",
    "\n",
    "train_mask = src_df['USER_ID'].isin(user_ids_train)\n",
    "num_data_per_unit = int(user_ids.shape[0] / len(num_training_data))\n",
    "for i in range(len(num_training_data)):\n",
    "    user_ids_tmp = user_ids[i * num_data_per_unit: num_data_per_unit * i + num_data_per_unit]\n",
    "    src_df_tmp = src_df[src_df['USER_ID'].isin(user_ids_tmp)]\n",
    "    user_groups = src_df_tmp.groupby('USER_ID')\n",
    "    train_tmp_id = user_groups.apply(lambda x: x.sample(num_training_data[i]) if x.shape[0] >= 100 else None).reset_index(drop=True)['tmp_id']\n",
    "    if train_mask is None:\n",
    "        train_mask = src_df['tmp_id'].isin(train_tmp_id)\n",
    "    else:\n",
    "        train_mask |= src_df['tmp_id'].isin(train_tmp_id)\n",
    "\n",
    "train_mask |= src_df['USER_ID'].isin(user_ids[len(num_training_data)*num_data_per_unit:])\n",
    "\n",
    "test_df = src_df[~train_mask].drop(columns=['tmp_id']).reset_index(drop=True)\n",
    "train_df = src_df[train_mask].drop(columns=['tmp_id']).reset_index(drop=True)"
   ]
  },
  {
   "cell_type": "markdown",
   "metadata": {},
   "source": [
    "#### Generate Sparse implicit Matrix"
   ]
  },
  {
   "cell_type": "code",
   "execution_count": 20,
   "metadata": {},
   "outputs": [],
   "source": [
    "interaction_group = src_df.groupby(['USER_ID', 'ITEM_ID'])"
   ]
  },
  {
   "cell_type": "code",
   "execution_count": 21,
   "metadata": {},
   "outputs": [],
   "source": [
    "interact_count = interaction_group.size().reset_index()"
   ]
  },
  {
   "cell_type": "code",
   "execution_count": 22,
   "metadata": {},
   "outputs": [],
   "source": [
    "explicit_data = interact_count[0].values.astype(np.float32)\n",
    "\n",
    "\n",
    "explicit_indices_user = interact_count.apply(lambda row: user_index[row['USER_ID']], axis=1).values\n",
    "explicit_indices_item = interact_count.apply(lambda row: item_index[row['ITEM_ID']], axis=1).values\n",
    "explicit_indices = np.stack((explicit_indices_item, explicit_indices_user))\n",
    "\n",
    "\n",
    "explicit_matrix = csr_matrix((explicit_data, explicit_indices), (len(item_index), len(user_index)))\n"
   ]
  },
  {
   "cell_type": "markdown",
   "metadata": {},
   "source": [
    "# Save Files"
   ]
  },
  {
   "cell_type": "code",
   "execution_count": 23,
   "metadata": {},
   "outputs": [],
   "source": [
    "EXPLICIT_FOLDER = os.path.join(TMP_FOLDER, 'explicit_newuser')\n",
    "\n",
    "with open(os.path.join(EXPLICIT_FOLDER, 'metadata.json'), 'w') as fp:\n",
    "    json.dump(metadata, fp)\n",
    "    \n",
    "train_df.to_csv(os.path.join(EXPLICIT_FOLDER, 'train_interactions.csv'), index=False)\n",
    "test_df.to_csv(os.path.join(EXPLICIT_FOLDER, 'test_interactions.csv'), index=False)\n",
    "\n",
    "save_npz(os.path.join(EXPLICIT_FOLDER, 'train_matrix.npz'), explicit_matrix)"
   ]
  },
  {
   "cell_type": "code",
   "execution_count": null,
   "metadata": {},
   "outputs": [],
   "source": []
  }
 ],
 "metadata": {
  "kernelspec": {
   "display_name": "Python 3",
   "language": "python",
   "name": "python3"
  },
  "language_info": {
   "codemirror_mode": {
    "name": "ipython",
    "version": 3
   },
   "file_extension": ".py",
   "mimetype": "text/x-python",
   "name": "python",
   "nbconvert_exporter": "python",
   "pygments_lexer": "ipython3",
   "version": "3.6.0"
  }
 },
 "nbformat": 4,
 "nbformat_minor": 1
}
