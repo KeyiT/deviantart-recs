{
 "cells": [
  {
   "cell_type": "code",
   "execution_count": 1,
   "metadata": {},
   "outputs": [],
   "source": [
    "import pandas as pd\n",
    "import os\n",
    "import numpy as np\n",
    "import seaborn as sns\n",
    "import json\n",
    "import time\n",
    "import logging\n",
    "\n",
    "import implicit\n",
    "from implicit import bpr, als, nearest_neighbours, approximate_als\n",
    "\n",
    "from scipy.sparse import coo_matrix, csr_matrix, save_npz, load_npz\n",
    "\n",
    "logger = logging.getLogger()\n",
    "fhandler = logging.FileHandler(filename='mylog.log', mode='a')\n",
    "formatter = logging.Formatter('%(asctime)s - %(name)s - %(levelname)s - %(message)s')\n",
    "fhandler.setFormatter(formatter)\n",
    "logger.addHandler(fhandler)\n",
    "logger.setLevel(logging.DEBUG)"
   ]
  },
  {
   "cell_type": "markdown",
   "metadata": {},
   "source": [
    "# Load Data"
   ]
  },
  {
   "cell_type": "code",
   "execution_count": 2,
   "metadata": {},
   "outputs": [],
   "source": [
    "DATA_FOLDER = \"../input\"\n",
    "TMP_FOLDER = os.path.join(DATA_FOLDER, \"tmp\")\n",
    "EXPLICIT_FOLDER = os.path.join(TMP_FOLDER, 'explicit')\n",
    "\n",
    "train_matrix_file_name = 'train_matrix.npz'\n",
    "test_csv_file_name = 'test_interactions.csv'\n",
    "train_csv_file_name = 'train_interactions.csv'\n",
    "metadata_file_name = 'metadata.json'"
   ]
  },
  {
   "cell_type": "code",
   "execution_count": 3,
   "metadata": {},
   "outputs": [],
   "source": [
    "train_matrix = load_npz(os.path.join(EXPLICIT_FOLDER, train_matrix_file_name))\n",
    "test_df = pd.read_csv(os.path.join(EXPLICIT_FOLDER, test_csv_file_name), dtype=str)\n",
    "train_df = pd.read_csv(os.path.join(EXPLICIT_FOLDER, train_csv_file_name), dtype=str)\n",
    "with open(os.path.join(EXPLICIT_FOLDER, metadata_file_name), 'r') as fp:\n",
    "    metadata = json.load(fp)"
   ]
  },
  {
   "cell_type": "markdown",
   "metadata": {},
   "source": [
    "# Train and Validate Model"
   ]
  },
  {
   "cell_type": "code",
   "execution_count": 4,
   "metadata": {},
   "outputs": [],
   "source": [
    "def top_k_accuracy(ground_series, rec_dict, k):\n",
    "    if k == 0:\n",
    "        return 0\n",
    "    \n",
    "    acc = 0\n",
    "    count = 0\n",
    "    for user_id in test_user_item_index.index.levels[0]:\n",
    "        top_k_rec = rec_dict[user_id][0:min(k, len(rec_dict[user_id]))]\n",
    "        if ground_series[user_id].shape[0] == 0:\n",
    "            continue\n",
    "        \n",
    "        # number of intersetion items\n",
    "        num_match = ground_series[user_id].isin(top_k_rec).map(lambda ele: 1.0 if ele else 0.0).sum()\n",
    "        \n",
    "        acc += num_match / min(len(top_k_rec), ground_series[user_id].shape[0])\n",
    "        \n",
    "        count += 1\n",
    "        \n",
    "    acc /= count\n",
    "    \n",
    "    return acc\n",
    "\n",
    "def top_k_accuracy_bins(ground_series, rec_dict, k, train_series, bins=5):\n",
    "    if k == 0:\n",
    "        return 0\n",
    "    \n",
    "    acc = dict()\n",
    "    count = dict()\n",
    "    for user_id in rec_dict.keys():\n",
    "        top_k_rec = rec_dict[user_id][0:min(k, len(rec_dict[user_id]))]\n",
    "        if ground_series[user_id].shape[0] == 0:\n",
    "            continue\n",
    "        \n",
    "        if isinstance(bins, list):\n",
    "            bin_index = bs(bins, train_series[user_id].shape[0])\n",
    "        else:\n",
    "            bin_index = (train_series[user_id].shape[0] // bins) * bins\n",
    "            \n",
    "        # number of intersetion items\n",
    "        num_match = ground_series[user_id].isin(top_k_rec).map(lambda ele: 1.0 if ele else 0.0).sum()\n",
    "        \n",
    "        if bin_index not in acc:\n",
    "            acc[bin_index] = 0.0\n",
    "            count[bin_index] = 0\n",
    "        acc[bin_index] += (num_match / min(len(top_k_rec), ground_series[user_id].shape[0])) if len(top_k_rec) > 0 else 0\n",
    "        count[bin_index] += 1\n",
    "    \n",
    "    print(\"mean top k accuracy: \" + str(np.asarray(list(acc.values())).sum() / np.asarray(list(count.values())).sum()))\n",
    "    \n",
    "    for bin_index in acc.keys():\n",
    "        acc[bin_index] /= count[bin_index]\n",
    "    \n",
    "    return pd.Series(acc, index=sorted(list(acc.keys())))\n",
    "\n",
    "def bs(a, target):\n",
    "    if target > a[-1]:\n",
    "        return len(a)\n",
    "\n",
    "    lo, hi = 0, len(a)-1\n",
    "    \n",
    "    while lo < hi:\n",
    "        mid = lo + int((hi - 1) / 2)\n",
    "        if target < a[mid]:\n",
    "            hi = mid\n",
    "        elif target > a[mid]:\n",
    "            lo = mid + 1\n",
    "        else:\n",
    "            return mid\n",
    "        \n",
    "    return lo"
   ]
  },
  {
   "cell_type": "code",
   "execution_count": 5,
   "metadata": {},
   "outputs": [],
   "source": [
    "test_user_item = test_df.groupby('USER_ID').apply(lambda group: group['ITEM_ID'])\n",
    "test_user_item_index = test_user_item.map(lambda ele: metadata['item_index'][ele])"
   ]
  },
  {
   "cell_type": "code",
   "execution_count": 6,
   "metadata": {},
   "outputs": [],
   "source": [
    "train_user_item = train_df.groupby('USER_ID').apply(lambda group: group['ITEM_ID'])\n",
    "train_user_item_index = train_user_item.map(lambda ele: metadata['item_index'][ele])"
   ]
  },
  {
   "cell_type": "code",
   "execution_count": 7,
   "metadata": {},
   "outputs": [
    {
     "data": {
      "text/plain": [
       "Index(['000086a4-90dd-45fa-b62c-dda6369d5c87',\n",
       "       '00012cdf-8ff9-4c9d-a7db-11b9c4b6eede',\n",
       "       '00014a37-91ac-4453-8c27-87df46a9959f',\n",
       "       '000186cc-93aa-4668-9e56-242944ec03c5',\n",
       "       '0001bade-a221-44d7-b5b0-cbdc1e467b9b',\n",
       "       '0001c4d4-13af-44c6-b653-a249ce2b2c7e',\n",
       "       '0001d25b-19ae-4d51-9de3-4c921ddf5ea5',\n",
       "       '0001ded5-708a-4ab6-ba0c-1d9084a968a9',\n",
       "       '00021c2c-0a45-4362-b0fd-482db3186b6e',\n",
       "       '00023648-c098-4f90-bcea-b5b4ac353afa',\n",
       "       ...\n",
       "       '26653649-0c7d-4840-ab49-9c8e1d7666e1',\n",
       "       '2665379b-cf53-4a0f-bcce-6d4491568fc2',\n",
       "       '266562cb-7c6a-440b-a023-2d5512ad0e2a',\n",
       "       '26656774-2b3a-44ed-b737-874fff4d93c2',\n",
       "       '26658082-0ec5-4c28-a86a-a75e84cc6c54',\n",
       "       '2665ce36-a9d9-45fc-a0bf-13441e55dcaa',\n",
       "       '2665e24f-f268-4879-ae79-989a3bc72af1',\n",
       "       '26661bd5-3b18-47c4-8b50-b0b93956a96b',\n",
       "       '26662878-f7b0-4531-822a-dc8f14a3383e',\n",
       "       '266653ea-69dd-4c6e-93f3-ff906380e7b0'],\n",
       "      dtype='object', name='USER_ID', length=62521)"
      ]
     },
     "execution_count": 7,
     "metadata": {},
     "output_type": "execute_result"
    }
   ],
   "source": [
    "test_user_item_index.index.levels[0]"
   ]
  },
  {
   "cell_type": "markdown",
   "metadata": {},
   "source": [
    "# COS"
   ]
  },
  {
   "cell_type": "markdown",
   "metadata": {},
   "source": [
    "### Training"
   ]
  },
  {
   "cell_type": "code",
   "execution_count": 8,
   "metadata": {},
   "outputs": [],
   "source": [
    "model_name = \"cos\""
   ]
  },
  {
   "cell_type": "code",
   "execution_count": null,
   "metadata": {},
   "outputs": [],
   "source": [
    "model = nearest_neighbours.CosineRecommender(K=100)"
   ]
  },
  {
   "cell_type": "code",
   "execution_count": null,
   "metadata": {},
   "outputs": [
    {
     "name": "stderr",
     "output_type": "stream",
     "text": [
      "100%|██████████| 224858/224858 [00:05<00:00, 42506.37it/s]\n"
     ]
    },
    {
     "name": "stdout",
     "output_type": "stream",
     "text": [
      "trained model '%s' in %s cos 6.68475604057312\n"
     ]
    }
   ],
   "source": [
    "start = time.time()\n",
    "model.fit(train_matrix)\n",
    "print(\"trained model '%s' in %s\", model_name, time.time() - start)"
   ]
  },
  {
   "cell_type": "markdown",
   "metadata": {},
   "source": [
    "### Testing"
   ]
  },
  {
   "cell_type": "code",
   "execution_count": null,
   "metadata": {},
   "outputs": [
    {
     "name": "stdout",
     "output_type": "stream",
     "text": [
      "mean top k accuracy: 0.00025045631081285075\n"
     ]
    }
   ],
   "source": [
    "rec_train_user_item_index = dict()\n",
    "for user_id in train_user_item_index.index.levels[0]:\n",
    "    rec_res = model.recommend(metadata['user_index'][user_id], train_matrix)\n",
    "    rec_res = [ele[0] for ele in rec_res]\n",
    "    rec_train_user_item_index[user_id] = rec_res\n",
    "topkbins = top_k_accuracy_bins(train_user_item_index, rec_train_user_item_index, 10, train_user_item_index, bins=30)"
   ]
  },
  {
   "cell_type": "code",
   "execution_count": null,
   "metadata": {},
   "outputs": [
    {
     "data": {
      "text/plain": [
       "<matplotlib.axes._subplots.AxesSubplot at 0x13df4a668>"
      ]
     },
     "execution_count": 12,
     "metadata": {},
     "output_type": "execute_result"
    },
    {
     "data": {
      "image/png": "[encoded data removed]",
      "text/plain": [
       "<Figure size 432x288 with 1 Axes>"
      ]
     },
     "metadata": {
      "needs_background": "light"
     },
     "output_type": "display_data"
    }
   ],
   "source": [
    "topkbins.plot(kind='line')"
   ]
  },
  {
   "cell_type": "code",
   "execution_count": null,
   "metadata": {},
   "outputs": [
    {
     "name": "stdout",
     "output_type": "stream",
     "text": [
      "mean top k accuracy: 6.797715967434943e-05\n"
     ]
    }
   ],
   "source": [
    "rec_test_user_item_index = dict()\n",
    "for user_id in test_user_item_index.index.levels[0]:\n",
    "    rec_res = model.recommend(metadata['user_index'][user_id], train_matrix, N=10, filter_items=train_user_item_index[user_id].values.tolist())\n",
    "    rec_res = [ele[0] for ele in rec_res]\n",
    "    rec_test_user_item_index[user_id] = rec_res\n",
    "topkbins = top_k_accuracy_bins(test_user_item_index, rec_test_user_item_index, 10, train_user_item_index, bins=30)"
   ]
  },
  {
   "cell_type": "code",
   "execution_count": null,
   "metadata": {
    "scrolled": true
   },
   "outputs": [
    {
     "data": {
      "text/plain": [
       "<matplotlib.axes._subplots.AxesSubplot at 0x129ad3c18>"
      ]
     },
     "execution_count": 14,
     "metadata": {},
     "output_type": "execute_result"
    },
    {
     "data": {
      "image/png": "[encoded data removed]",
      "text/plain": [
       "<Figure size 432x288 with 1 Axes>"
      ]
     },
     "metadata": {
      "needs_background": "light"
     },
     "output_type": "display_data"
    }
   ],
   "source": [
    "topkbins.plot(kind='line')"
   ]
  },
  {
   "cell_type": "markdown",
   "metadata": {},
   "source": [
    "## TFIDF"
   ]
  },
  {
   "cell_type": "markdown",
   "metadata": {},
   "source": [
    "### Training"
   ]
  },
  {
   "cell_type": "code",
   "execution_count": null,
   "metadata": {},
   "outputs": [],
   "source": [
    "model_name = \"tfidf\""
   ]
  },
  {
   "cell_type": "code",
   "execution_count": null,
   "metadata": {},
   "outputs": [],
   "source": [
    "model = nearest_neighbours.TFIDFRecommender(K=100)"
   ]
  },
  {
   "cell_type": "code",
   "execution_count": null,
   "metadata": {},
   "outputs": [
    {
     "name": "stderr",
     "output_type": "stream",
     "text": [
      "100%|██████████| 224858/224858 [00:11<00:00, 18816.13it/s]\n"
     ]
    }
   ],
   "source": [
    "start = time.time()\n",
    "model.fit(train_matrix)\n",
    "print(\"trained model '%s' in %s\", model_name, time.time() - start)"
   ]
  },
  {
   "cell_type": "markdown",
   "metadata": {},
   "source": [
    "### Testing"
   ]
  },
  {
   "cell_type": "code",
   "execution_count": null,
   "metadata": {},
   "outputs": [],
   "source": [
    "rec_train_user_item_index = dict()\n",
    "for user_id in train_user_item_index.index.levels[0]:\n",
    "    rec_res = model.recommend(metadata['user_index'][user_id], train_matrix, N=10)\n",
    "    rec_res = [ele[0] for ele in rec_res]\n",
    "    rec_train_user_item_index[user_id] = rec_res\n",
    "topkbins = top_k_accuracy_bins(train_user_item_index, rec_train_user_item_index, 10, train_user_item_index, bins=30)"
   ]
  },
  {
   "cell_type": "code",
   "execution_count": null,
   "metadata": {},
   "outputs": [],
   "source": [
    "topkbins.plot(kind='line')"
   ]
  },
  {
   "cell_type": "code",
   "execution_count": null,
   "metadata": {},
   "outputs": [],
   "source": [
    "rec_test_user_item_index = dict()\n",
    "for user_id in test_user_item_index.index.levels[0]:\n",
    "    rec_res = model.recommend(metadata['user_index'][user_id], train_matrix, N=10, filter_items=train_user_item_index[user_id].values.tolist())\n",
    "    rec_res = [ele[0] for ele in rec_res]\n",
    "    rec_test_user_item_index[user_id] = rec_res\n",
    "topkbins = top_k_accuracy_bins(test_user_item_index, rec_test_user_item_index, 10, train_user_item_index, bins=30)"
   ]
  },
  {
   "cell_type": "code",
   "execution_count": null,
   "metadata": {},
   "outputs": [],
   "source": [
    "topkbins.plot(kind='line')"
   ]
  }
 ],
 "metadata": {
  "kernelspec": {
   "display_name": "Python 3",
   "language": "python",
   "name": "python3"
  },
  "language_info": {
   "codemirror_mode": {
    "name": "ipython",
    "version": 3
   },
   "file_extension": ".py",
   "mimetype": "text/x-python",
   "name": "python",
   "nbconvert_exporter": "python",
   "pygments_lexer": "ipython3",
   "version": "3.6.0"
  }
 },
 "nbformat": 4,
 "nbformat_minor": 1
}
