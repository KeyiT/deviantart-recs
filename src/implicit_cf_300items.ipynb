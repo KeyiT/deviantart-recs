{
 "cells": [
  {
   "cell_type": "code",
   "execution_count": 1,
   "metadata": {},
   "outputs": [],
   "source": [
    "import pandas as pd\n",
    "import os\n",
    "import numpy as np\n",
    "import seaborn as sns\n",
    "import json\n",
    "import time\n",
    "import logging\n",
    "\n",
    "import implicit\n",
    "from implicit import bpr, als, nearest_neighbours, approximate_als\n",
    "\n",
    "from scipy.sparse import coo_matrix, csr_matrix, save_npz, load_npz\n",
    "\n",
    "logger = logging.getLogger()\n",
    "fhandler = logging.FileHandler(filename='mylog.log', mode='a')\n",
    "formatter = logging.Formatter('%(asctime)s - %(name)s - %(levelname)s - %(message)s')\n",
    "fhandler.setFormatter(formatter)\n",
    "logger.addHandler(fhandler)\n",
    "logger.setLevel(logging.DEBUG)"
   ]
  },
  {
   "cell_type": "markdown",
   "metadata": {},
   "source": [
    "# Load Data"
   ]
  },
  {
   "cell_type": "code",
   "execution_count": 2,
   "metadata": {},
   "outputs": [],
   "source": [
    "DATA_FOLDER = \"../input\"\n",
    "TMP_FOLDER = os.path.join(DATA_FOLDER, \"tmp\")\n",
    "IMPLICIT_FOLDER = os.path.join(TMP_FOLDER, 'implicit_300items')\n",
    "\n",
    "train_matrix_file_name = 'train_matrix.npz'\n",
    "test_csv_file_name = 'test_interactions.csv'\n",
    "train_csv_file_name = 'train_interactions.csv'\n",
    "metadata_file_name = 'metadata.json'"
   ]
  },
  {
   "cell_type": "code",
   "execution_count": 3,
   "metadata": {},
   "outputs": [],
   "source": [
    "train_matrix = load_npz(os.path.join(IMPLICIT_FOLDER, train_matrix_file_name))\n",
    "test_df = pd.read_csv(os.path.join(IMPLICIT_FOLDER, test_csv_file_name), dtype=str)\n",
    "train_df = pd.read_csv(os.path.join(IMPLICIT_FOLDER, train_csv_file_name), dtype=str)\n",
    "with open(os.path.join(IMPLICIT_FOLDER, metadata_file_name), 'r') as fp:\n",
    "    metadata = json.load(fp)"
   ]
  },
  {
   "cell_type": "markdown",
   "metadata": {},
   "source": [
    "# Train and Validate Model"
   ]
  },
  {
   "cell_type": "code",
   "execution_count": 16,
   "metadata": {},
   "outputs": [],
   "source": [
    "def top_k_accuracy(ground_series, rec_dict, k):\n",
    "    if k == 0:\n",
    "        return 0\n",
    "    \n",
    "    acc = 0\n",
    "    count = 0\n",
    "    for user_id in test_user_item_index.index.levels[0]:\n",
    "        top_k_rec = rec_dict[user_id][0:min(k, len(rec_dict[user_id]))]\n",
    "        if ground_series[user_id].shape[0] == 0:\n",
    "            continue\n",
    "        \n",
    "        # number of intersetion items\n",
    "        num_match = ground_series[user_id].isin(top_k_rec).map(lambda ele: 1.0 if ele else 0.0).sum()\n",
    "        \n",
    "        acc += num_match / min(len(top_k_rec), ground_series[user_id].shape[0])\n",
    "        \n",
    "        count += 1\n",
    "        \n",
    "    acc /= count\n",
    "    \n",
    "    return acc\n",
    "\n",
    "def top_k_accuracy_bins(ground_series, rec_dict, k, train_series, bins=5):\n",
    "    if k == 0:\n",
    "        return 0\n",
    "    \n",
    "    acc = dict()\n",
    "    count = dict()\n",
    "    for user_id in test_user_item_index.index.levels[0]:\n",
    "        top_k_rec = rec_dict[user_id][0:min(k, len(rec_dict[user_id]))]\n",
    "        if ground_series[user_id].shape[0] == 0:\n",
    "            continue\n",
    "        \n",
    "        if isinstance(bins, list):\n",
    "            bin_index = bs(bins, train_series[user_id].shape[0])\n",
    "        else:\n",
    "            bin_index = (train_series[user_id].shape[0] // bins) * bins\n",
    "            \n",
    "        # number of intersetion items\n",
    "        num_match = ground_series[user_id].isin(top_k_rec).map(lambda ele: 1.0 if ele else 0.0).sum()\n",
    "        \n",
    "        if bin_index not in acc:\n",
    "            acc[bin_index] = 0.0\n",
    "            count[bin_index] = 0\n",
    "        acc[bin_index] += num_match / min(len(top_k_rec), ground_series[user_id].shape[0])\n",
    "        count[bin_index] += 1\n",
    "    \n",
    "    print(\"mean top k accuracy: \" + str(np.asarray(list(acc.values())).sum() / np.asarray(list(count.values())).sum()))\n",
    "    \n",
    "    for bin_index in acc.keys():\n",
    "        acc[bin_index] /= count[bin_index]\n",
    "    \n",
    "    return pd.Series(acc, index=sorted(list(acc.keys())))\n",
    "\n",
    "def bs(a, target):\n",
    "    if target > a[-1]:\n",
    "        return len(a)\n",
    "\n",
    "    lo, hi = 0, len(a)-1\n",
    "    \n",
    "    while lo < hi:\n",
    "        mid = lo + int((hi - 1) / 2)\n",
    "        if target < a[mid]:\n",
    "            hi = mid\n",
    "        elif target > a[mid]:\n",
    "            lo = mid + 1\n",
    "        else:\n",
    "            return mid\n",
    "        \n",
    "    return lo"
   ]
  },
  {
   "cell_type": "code",
   "execution_count": 5,
   "metadata": {},
   "outputs": [],
   "source": [
    "test_user_item = test_df.groupby('USER_ID').apply(lambda group: group['ITEM_ID'])\n",
    "test_user_item_index = test_user_item.map(lambda ele: metadata['item_index'][ele])"
   ]
  },
  {
   "cell_type": "code",
   "execution_count": 6,
   "metadata": {},
   "outputs": [],
   "source": [
    "train_user_item = train_df.groupby('USER_ID').apply(lambda group: group['ITEM_ID'])\n",
    "train_user_item_index = train_user_item.map(lambda ele: metadata['item_index'][ele])"
   ]
  },
  {
   "cell_type": "code",
   "execution_count": 7,
   "metadata": {},
   "outputs": [
    {
     "data": {
      "text/plain": [
       "Index(['00012cdf-8ff9-4c9d-a7db-11b9c4b6eede',\n",
       "       '00014a37-91ac-4453-8c27-87df46a9959f',\n",
       "       '000186cc-93aa-4668-9e56-242944ec03c5',\n",
       "       '0001bade-a221-44d7-b5b0-cbdc1e467b9b',\n",
       "       '0001c4d4-13af-44c6-b653-a249ce2b2c7e',\n",
       "       '0001d25b-19ae-4d51-9de3-4c921ddf5ea5',\n",
       "       '0001ded5-708a-4ab6-ba0c-1d9084a968a9',\n",
       "       '00021c2c-0a45-4362-b0fd-482db3186b6e',\n",
       "       '000246d5-530e-4f3e-b4e7-81de4369aad4',\n",
       "       '00027cb1-9945-401b-b80d-a25efa418093',\n",
       "       ...\n",
       "       '2664adc7-1a61-47cf-afc4-c5b7de9ddcd8',\n",
       "       '2664ae12-8a77-4338-b7d7-56b8f71b6df6',\n",
       "       '2664b616-d564-4b6b-ad6a-02f2f6dd4f4b',\n",
       "       '2664d968-bac9-4281-8d9e-370643bc99da',\n",
       "       '266562cb-7c6a-440b-a023-2d5512ad0e2a',\n",
       "       '26656774-2b3a-44ed-b737-874fff4d93c2',\n",
       "       '26658082-0ec5-4c28-a86a-a75e84cc6c54',\n",
       "       '2665e24f-f268-4879-ae79-989a3bc72af1',\n",
       "       '26661bd5-3b18-47c4-8b50-b0b93956a96b',\n",
       "       '266653ea-69dd-4c6e-93f3-ff906380e7b0'],\n",
       "      dtype='object', name='USER_ID', length=41086)"
      ]
     },
     "execution_count": 7,
     "metadata": {},
     "output_type": "execute_result"
    }
   ],
   "source": [
    "test_user_item_index.index.levels[0]"
   ]
  },
  {
   "cell_type": "markdown",
   "metadata": {},
   "source": [
    "## BPR"
   ]
  },
  {
   "cell_type": "markdown",
   "metadata": {},
   "source": [
    "### Training"
   ]
  },
  {
   "cell_type": "code",
   "execution_count": 8,
   "metadata": {},
   "outputs": [],
   "source": [
    "model_name = \"bpr\""
   ]
  },
  {
   "cell_type": "code",
   "execution_count": 9,
   "metadata": {},
   "outputs": [],
   "source": [
    "model = bpr.BayesianPersonalizedRanking(iterations=1000, factors=100)"
   ]
  },
  {
   "cell_type": "code",
   "execution_count": 10,
   "metadata": {},
   "outputs": [
    {
     "name": "stderr",
     "output_type": "stream",
     "text": [
      "100%|██████████| 1000/1000 [01:31<00:00,  9.62it/s, correct=99.76%, skipped=0.26%]"
     ]
    },
    {
     "name": "stdout",
     "output_type": "stream",
     "text": [
      "trained model '%s' in %s bpr 91.34968495368958\n"
     ]
    },
    {
     "name": "stderr",
     "output_type": "stream",
     "text": [
      "\n"
     ]
    }
   ],
   "source": [
    "start = time.time()\n",
    "model.fit(train_matrix)\n",
    "print(\"trained model '%s' in %s\", model_name, time.time() - start)"
   ]
  },
  {
   "cell_type": "markdown",
   "metadata": {},
   "source": [
    "### Testing"
   ]
  },
  {
   "cell_type": "code",
   "execution_count": 11,
   "metadata": {},
   "outputs": [],
   "source": [
    "rec_train_user_item_index = dict()\n",
    "for user_id in train_user_item_index.index.levels[0]:\n",
    "    rec_res = model.recommend(metadata['user_index'][user_id], train_matrix, N=10, filter_already_liked_items=False)\n",
    "    rec_res = [ele[0] for ele in rec_res]\n",
    "    rec_train_user_item_index[user_id] = rec_res\n",
    "topkbins = top_k_accuracy_bins(train_user_item_index, rec_train_user_item_index, 10, train_user_item_index, bins=5)"
   ]
  },
  {
   "cell_type": "code",
   "execution_count": 22,
   "metadata": {},
   "outputs": [
    {
     "name": "stdout",
     "output_type": "stream",
     "text": [
      "mean top k accuracy: 0.6791753785516889\n"
     ]
    },
    {
     "data": {
      "text/plain": [
       "<matplotlib.axes._subplots.AxesSubplot at 0x1262be668>"
      ]
     },
     "execution_count": 22,
     "metadata": {},
     "output_type": "execute_result"
    },
    {
     "data": {
      "image/png": "[encoded data removed]",
      "text/plain": [
       "<Figure size 432x288 with 1 Axes>"
      ]
     },
     "metadata": {
      "needs_background": "light"
     },
     "output_type": "display_data"
    }
   ],
   "source": [
    "topkbins.plot(kind='line')"
   ]
  },
  {
   "cell_type": "code",
   "execution_count": 19,
   "metadata": {},
   "outputs": [],
   "source": [
    "rec_test_user_item_index = dict()\n",
    "for user_id in test_user_item_index.index.levels[0]:\n",
    "    rec_res = model.recommend(metadata['user_index'][user_id], train_matrix, N=10, filter_items=train_user_item_index[user_id].values.tolist())\n",
    "    rec_res = [ele[0] for ele in rec_res]\n",
    "    rec_test_user_item_index[user_id] = rec_res\n",
    "topkbins = top_k_accuracy_bins(test_user_item_index, rec_test_user_item_index, 10, train_user_item_index, bins=5)"
   ]
  },
  {
   "cell_type": "code",
   "execution_count": 21,
   "metadata": {},
   "outputs": [
    {
     "name": "stdout",
     "output_type": "stream",
     "text": [
      "mean top k accuracy: 0.2658647579332248\n"
     ]
    },
    {
     "data": {
      "text/plain": [
       "<matplotlib.axes._subplots.AxesSubplot at 0x12607d6a0>"
      ]
     },
     "execution_count": 21,
     "metadata": {},
     "output_type": "execute_result"
    },
    {
     "data": {
      "image/png": "[encoded data removed]",
      "text/plain": [
       "<Figure size 432x288 with 1 Axes>"
      ]
     },
     "metadata": {
      "needs_background": "light"
     },
     "output_type": "display_data"
    }
   ],
   "source": [
    "topkbins.plot(kind='line')"
   ]
  },
  {
   "cell_type": "markdown",
   "metadata": {},
   "source": [
    "## ALS"
   ]
  },
  {
   "cell_type": "markdown",
   "metadata": {},
   "source": [
    "### Training"
   ]
  },
  {
   "cell_type": "code",
   "execution_count": 23,
   "metadata": {},
   "outputs": [],
   "source": [
    "model_name = \"als\""
   ]
  },
  {
   "cell_type": "code",
   "execution_count": 24,
   "metadata": {},
   "outputs": [],
   "source": [
    "model = als.AlternatingLeastSquares(calculate_training_loss=True, iterations=50, factors=100)"
   ]
  },
  {
   "cell_type": "code",
   "execution_count": 25,
   "metadata": {},
   "outputs": [
    {
     "name": "stderr",
     "output_type": "stream",
     "text": [
      "100%|██████████| 50.0/50 [00:19<00:00,  2.49it/s, loss=0.000133]"
     ]
    },
    {
     "name": "stdout",
     "output_type": "stream",
     "text": [
      "trained model '%s' in %s als 19.701157093048096\n"
     ]
    },
    {
     "name": "stderr",
     "output_type": "stream",
     "text": [
      "\n"
     ]
    }
   ],
   "source": [
    "start = time.time()\n",
    "model.fit(train_matrix)\n",
    "print(\"trained model '%s' in %s\", model_name, time.time() - start)"
   ]
  },
  {
   "cell_type": "markdown",
   "metadata": {},
   "source": [
    "### Testing"
   ]
  },
  {
   "cell_type": "code",
   "execution_count": 26,
   "metadata": {},
   "outputs": [
    {
     "name": "stdout",
     "output_type": "stream",
     "text": [
      "mean top k accuracy: 0.23302121218443203\n"
     ]
    }
   ],
   "source": [
    "rec_train_user_item_index = dict()\n",
    "for user_id in train_user_item_index.index.levels[0]:\n",
    "    rec_res = model.recommend(metadata['user_index'][user_id], train_matrix, N=10)\n",
    "    rec_res = [ele[0] for ele in rec_res]\n",
    "    rec_train_user_item_index[user_id] = rec_res\n",
    "topkbins = top_k_accuracy_bins(train_user_item_index, rec_train_user_item_index, 10, train_user_item_index, bins=5)"
   ]
  },
  {
   "cell_type": "code",
   "execution_count": 27,
   "metadata": {},
   "outputs": [
    {
     "data": {
      "text/plain": [
       "<matplotlib.axes._subplots.AxesSubplot at 0x124fbfe80>"
      ]
     },
     "execution_count": 27,
     "metadata": {},
     "output_type": "execute_result"
    },
    {
     "data": {
      "image/png": "[encoded data removed]",
      "text/plain": [
       "<Figure size 432x288 with 1 Axes>"
      ]
     },
     "metadata": {
      "needs_background": "light"
     },
     "output_type": "display_data"
    }
   ],
   "source": [
    "topkbins.plot(kind='line')"
   ]
  },
  {
   "cell_type": "code",
   "execution_count": 28,
   "metadata": {},
   "outputs": [
    {
     "name": "stdout",
     "output_type": "stream",
     "text": [
      "mean top k accuracy: 0.18218354802045136\n"
     ]
    }
   ],
   "source": [
    "rec_test_user_item_index = dict()\n",
    "for user_id in test_user_item_index.index.levels[0]:\n",
    "    rec_res = model.recommend(metadata['user_index'][user_id], train_matrix, N=10, filter_items=train_user_item_index[user_id].values.tolist())\n",
    "    rec_res = [ele[0] for ele in rec_res]\n",
    "    rec_test_user_item_index[user_id] = rec_res\n",
    "topkbins = top_k_accuracy_bins(test_user_item_index, rec_test_user_item_index, 10, train_user_item_index, bins=5)"
   ]
  },
  {
   "cell_type": "code",
   "execution_count": 29,
   "metadata": {},
   "outputs": [
    {
     "data": {
      "text/plain": [
       "<matplotlib.axes._subplots.AxesSubplot at 0x1260966a0>"
      ]
     },
     "execution_count": 29,
     "metadata": {},
     "output_type": "execute_result"
    },
    {
     "data": {
      "image/png": "[encoded data removed]",
      "text/plain": [
       "<Figure size 432x288 with 1 Axes>"
      ]
     },
     "metadata": {
      "needs_background": "light"
     },
     "output_type": "display_data"
    }
   ],
   "source": [
    "topkbins.plot(kind='line')"
   ]
  },
  {
   "cell_type": "code",
   "execution_count": null,
   "metadata": {},
   "outputs": [],
   "source": []
  }
 ],
 "metadata": {
  "kernelspec": {
   "display_name": "Python 3",
   "language": "python",
   "name": "python3"
  },
  "language_info": {
   "codemirror_mode": {
    "name": "ipython",
    "version": 3
   },
   "file_extension": ".py",
   "mimetype": "text/x-python",
   "name": "python",
   "nbconvert_exporter": "python",
   "pygments_lexer": "ipython3",
   "version": "3.6.0"
  }
 },
 "nbformat": 4,
 "nbformat_minor": 1
}
