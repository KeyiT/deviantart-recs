{
 "cells": [
  {
   "cell_type": "code",
   "execution_count": 1,
   "metadata": {},
   "outputs": [],
   "source": [
    "import pandas as pd\n",
    "import os\n",
    "import numpy as np\n",
    "import seaborn as sns\n",
    "import json\n",
    "import time\n",
    "import logging\n",
    "\n",
    "import implicit\n",
    "from implicit import bpr, als, nearest_neighbours, approximate_als\n",
    "\n",
    "from scipy.sparse import coo_matrix, csr_matrix, save_npz, load_npz\n",
    "\n",
    "logger = logging.getLogger()\n",
    "fhandler = logging.FileHandler(filename='mylog.log', mode='a')\n",
    "formatter = logging.Formatter('%(asctime)s - %(name)s - %(levelname)s - %(message)s')\n",
    "fhandler.setFormatter(formatter)\n",
    "logger.addHandler(fhandler)\n",
    "logger.setLevel(logging.DEBUG)"
   ]
  },
  {
   "cell_type": "markdown",
   "metadata": {},
   "source": [
    "# Load Data"
   ]
  },
  {
   "cell_type": "code",
   "execution_count": 2,
   "metadata": {},
   "outputs": [],
   "source": [
    "DATA_FOLDER = \"../input\"\n",
    "TMP_FOLDER = os.path.join(DATA_FOLDER, \"tmp\")\n",
    "EXPLICIT_FOLDER = os.path.join(TMP_FOLDER, 'explicit_newuser')\n",
    "\n",
    "train_matrix_file_name = 'train_matrix.npz'\n",
    "test_csv_file_name = 'test_interactions.csv'\n",
    "train_csv_file_name = 'train_interactions.csv'\n",
    "metadata_file_name = 'metadata.json'"
   ]
  },
  {
   "cell_type": "code",
   "execution_count": 3,
   "metadata": {},
   "outputs": [],
   "source": [
    "train_matrix = load_npz(os.path.join(EXPLICIT_FOLDER, train_matrix_file_name))\n",
    "test_df = pd.read_csv(os.path.join(EXPLICIT_FOLDER, test_csv_file_name), dtype=str)\n",
    "train_df = pd.read_csv(os.path.join(EXPLICIT_FOLDER, train_csv_file_name), dtype=str)\n",
    "with open(os.path.join(EXPLICIT_FOLDER, metadata_file_name), 'r') as fp:\n",
    "    metadata = json.load(fp)"
   ]
  },
  {
   "cell_type": "markdown",
   "metadata": {},
   "source": [
    "# Train and Validate Model"
   ]
  },
  {
   "cell_type": "code",
   "execution_count": 4,
   "metadata": {},
   "outputs": [],
   "source": [
    "def top_k_accuracy(ground_series, rec_dict, k):\n",
    "    if k == 0:\n",
    "        return 0\n",
    "    \n",
    "    acc = 0\n",
    "    count = 0\n",
    "    for user_id in test_user_item_index.index.levels[0]:\n",
    "        top_k_rec = rec_dict[user_id][0:min(k, len(rec_dict[user_id]))]\n",
    "        if ground_series[user_id].shape[0] == 0:\n",
    "            continue\n",
    "        \n",
    "        # number of intersetion items\n",
    "        num_match = ground_series[user_id].isin(top_k_rec).map(lambda ele: 1.0 if ele else 0.0).sum()\n",
    "        \n",
    "        acc += num_match / min(len(top_k_rec), ground_series[user_id].shape[0])\n",
    "        \n",
    "        count += 1\n",
    "        \n",
    "    acc /= count\n",
    "    \n",
    "    return acc\n",
    "\n",
    "def top_k_accuracy_bins(ground_series, rec_dict, k, train_series, bins=5):\n",
    "    if k == 0:\n",
    "        return 0\n",
    "    \n",
    "    acc = dict()\n",
    "    count = dict()\n",
    "    for user_id in rec_dict.keys():\n",
    "        top_k_rec = rec_dict[user_id][0:min(k, len(rec_dict[user_id]))]\n",
    "        if ground_series[user_id].shape[0] == 0:\n",
    "            continue\n",
    "        \n",
    "        if isinstance(bins, list):\n",
    "            bin_index = bs(bins, train_series[user_id].shape[0])\n",
    "        else:\n",
    "            bin_index = (train_series[user_id].shape[0] // bins) * bins\n",
    "            \n",
    "        # number of intersetion items\n",
    "        num_match = ground_series[user_id].isin(top_k_rec).map(lambda ele: 1.0 if ele else 0.0).sum()\n",
    "        \n",
    "        if bin_index not in acc:\n",
    "            acc[bin_index] = 0.0\n",
    "            count[bin_index] = 0\n",
    "        acc[bin_index] += (num_match / min(len(top_k_rec), ground_series[user_id].shape[0])) if len(top_k_rec) > 0 else 0\n",
    "        count[bin_index] += 1\n",
    "    \n",
    "    print(\"mean top k accuracy: \" + str(np.asarray(list(acc.values())).sum() / np.asarray(list(count.values())).sum()))\n",
    "    \n",
    "    for bin_index in acc.keys():\n",
    "        acc[bin_index] /= count[bin_index]\n",
    "    \n",
    "    return pd.Series(acc, index=sorted(list(acc.keys())))\n",
    "\n",
    "def bs(a, target):\n",
    "    if target > a[-1]:\n",
    "        return len(a)\n",
    "\n",
    "    lo, hi = 0, len(a)-1\n",
    "    \n",
    "    while lo < hi:\n",
    "        mid = lo + int((hi - 1) / 2)\n",
    "        if target < a[mid]:\n",
    "            hi = mid\n",
    "        elif target > a[mid]:\n",
    "            lo = mid + 1\n",
    "        else:\n",
    "            return mid\n",
    "        \n",
    "    return lo"
   ]
  },
  {
   "cell_type": "code",
   "execution_count": 5,
   "metadata": {},
   "outputs": [],
   "source": [
    "test_user_item = test_df.groupby('USER_ID').apply(lambda group: group['ITEM_ID'])\n",
    "test_user_item_index = test_user_item.map(lambda ele: metadata['item_index'][ele])"
   ]
  },
  {
   "cell_type": "code",
   "execution_count": 6,
   "metadata": {},
   "outputs": [],
   "source": [
    "train_user_item = train_df.groupby('USER_ID').apply(lambda group: group['ITEM_ID'])\n",
    "train_user_item_index = train_user_item.map(lambda ele: metadata['item_index'][ele])"
   ]
  },
  {
   "cell_type": "code",
   "execution_count": 7,
   "metadata": {},
   "outputs": [
    {
     "data": {
      "text/plain": [
       "Index(['000005bb-44fb-469e-8c22-bc8979b6e11d',\n",
       "       '00014a37-91ac-4453-8c27-87df46a9959f',\n",
       "       '000186cc-93aa-4668-9e56-242944ec03c5',\n",
       "       '0001ded5-708a-4ab6-ba0c-1d9084a968a9',\n",
       "       '000204c2-e3e5-4d61-8289-aec22d2066bf',\n",
       "       '00020be0-4ea8-4568-a9f3-bba0ba8bc1ea',\n",
       "       '00021c2c-0a45-4362-b0fd-482db3186b6e',\n",
       "       '00023648-c098-4f90-bcea-b5b4ac353afa',\n",
       "       '000246d5-530e-4f3e-b4e7-81de4369aad4',\n",
       "       '00025567-45f1-4f60-8578-a6eda8643d04',\n",
       "       ...\n",
       "       '2665379b-cf53-4a0f-bcce-6d4491568fc2',\n",
       "       '266562cb-7c6a-440b-a023-2d5512ad0e2a',\n",
       "       '26658082-0ec5-4c28-a86a-a75e84cc6c54',\n",
       "       '26658d7b-6d93-4803-97a2-b5358224e928',\n",
       "       '26659978-1ca3-4711-a937-c435f09dd29e',\n",
       "       '2665b0dc-e6e8-40bc-95a9-a448bb09be59',\n",
       "       '2665c601-8569-4c89-8977-7c495a7b4d37',\n",
       "       '2665e24f-f268-4879-ae79-989a3bc72af1',\n",
       "       '2665ff65-6184-436d-942a-3da2ea211946',\n",
       "       '26662878-f7b0-4531-822a-dc8f14a3383e'],\n",
       "      dtype='object', name='USER_ID', length=54139)"
      ]
     },
     "execution_count": 7,
     "metadata": {},
     "output_type": "execute_result"
    }
   ],
   "source": [
    "test_user_item_index.index.levels[0]"
   ]
  },
  {
   "cell_type": "markdown",
   "metadata": {},
   "source": [
    "# COS"
   ]
  },
  {
   "cell_type": "markdown",
   "metadata": {},
   "source": [
    "### Training"
   ]
  },
  {
   "cell_type": "code",
   "execution_count": 8,
   "metadata": {},
   "outputs": [],
   "source": [
    "model_name = \"cos\""
   ]
  },
  {
   "cell_type": "code",
   "execution_count": 9,
   "metadata": {},
   "outputs": [],
   "source": [
    "model = nearest_neighbours.CosineRecommender(K=100)"
   ]
  },
  {
   "cell_type": "code",
   "execution_count": 10,
   "metadata": {},
   "outputs": [
    {
     "name": "stderr",
     "output_type": "stream",
     "text": [
      "100%|██████████| 224858/224858 [00:05<00:00, 44183.59it/s]\n"
     ]
    },
    {
     "name": "stdout",
     "output_type": "stream",
     "text": [
      "trained model '%s' in %s cos 6.8208818435668945\n"
     ]
    }
   ],
   "source": [
    "start = time.time()\n",
    "model.fit(train_matrix)\n",
    "print(\"trained model '%s' in %s\", model_name, time.time() - start)"
   ]
  },
  {
   "cell_type": "markdown",
   "metadata": {},
   "source": [
    "### Testing"
   ]
  },
  {
   "cell_type": "code",
   "execution_count": 11,
   "metadata": {},
   "outputs": [
    {
     "name": "stdout",
     "output_type": "stream",
     "text": [
      "mean top k accuracy: 0.0005015988032991615\n"
     ]
    }
   ],
   "source": [
    "rec_train_user_item_index = dict()\n",
    "for user_id in train_user_item_index.index.levels[0]:\n",
    "    rec_res = model.recommend(metadata['user_index'][user_id], train_matrix)\n",
    "    rec_res = [ele[0] for ele in rec_res]\n",
    "    rec_train_user_item_index[user_id] = rec_res\n",
    "topkbins = top_k_accuracy_bins(train_user_item_index, rec_train_user_item_index, 10, train_user_item_index, bins=30)"
   ]
  },
  {
   "cell_type": "code",
   "execution_count": 12,
   "metadata": {},
   "outputs": [
    {
     "data": {
      "text/plain": [
       "<matplotlib.axes._subplots.AxesSubplot at 0x12154cac8>"
      ]
     },
     "execution_count": 12,
     "metadata": {},
     "output_type": "execute_result"
    },
    {
     "data": {
      "image/png": "[encoded data removed]",
      "text/plain": [
       "<Figure size 432x288 with 1 Axes>"
      ]
     },
     "metadata": {
      "needs_background": "light"
     },
     "output_type": "display_data"
    }
   ],
   "source": [
    "topkbins.plot(kind='line')"
   ]
  },
  {
   "cell_type": "code",
   "execution_count": 19,
   "metadata": {},
   "outputs": [
    {
     "name": "stdout",
     "output_type": "stream",
     "text": [
      "mean top k accuracy: 3.0784954776901432e-06\n"
     ]
    }
   ],
   "source": [
    "rec_test_user_item_index = dict()\n",
    "for user_id in test_user_item_index.index.levels[0]:\n",
    "    rec_res = model.recommend(metadata['user_index'][user_id], train_matrix, N=10, filter_items=train_user_item_index[user_id].values.tolist())\n",
    "    rec_res = [ele[0] for ele in rec_res]\n",
    "    rec_test_user_item_index[user_id] = rec_res\n",
    "topkbins = top_k_accuracy_bins(test_user_item_index, rec_test_user_item_index, 10, train_user_item_index, bins=1)"
   ]
  },
  {
   "cell_type": "code",
   "execution_count": 20,
   "metadata": {
    "scrolled": true
   },
   "outputs": [
    {
     "data": {
      "text/plain": [
       "<matplotlib.axes._subplots.AxesSubplot at 0x12c8aa7f0>"
      ]
     },
     "execution_count": 20,
     "metadata": {},
     "output_type": "execute_result"
    },
    {
     "data": {
      "image/png": "[encoded data removed]",
      "text/plain": [
       "<Figure size 432x288 with 1 Axes>"
      ]
     },
     "metadata": {
      "needs_background": "light"
     },
     "output_type": "display_data"
    }
   ],
   "source": [
    "topkbins.plot(kind='line')"
   ]
  },
  {
   "cell_type": "markdown",
   "metadata": {},
   "source": [
    "## TFIDF"
   ]
  },
  {
   "cell_type": "markdown",
   "metadata": {},
   "source": [
    "### Training"
   ]
  },
  {
   "cell_type": "code",
   "execution_count": 21,
   "metadata": {},
   "outputs": [],
   "source": [
    "model_name = \"tfidf\""
   ]
  },
  {
   "cell_type": "code",
   "execution_count": 22,
   "metadata": {},
   "outputs": [],
   "source": [
    "model = nearest_neighbours.TFIDFRecommender(K=100)"
   ]
  },
  {
   "cell_type": "code",
   "execution_count": 23,
   "metadata": {},
   "outputs": [
    {
     "name": "stderr",
     "output_type": "stream",
     "text": [
      "100%|██████████| 224858/224858 [00:04<00:00, 45291.16it/s]\n"
     ]
    },
    {
     "name": "stdout",
     "output_type": "stream",
     "text": [
      "trained model '%s' in %s tfidf 6.7647271156311035\n"
     ]
    }
   ],
   "source": [
    "start = time.time()\n",
    "model.fit(train_matrix)\n",
    "print(\"trained model '%s' in %s\", model_name, time.time() - start)"
   ]
  },
  {
   "cell_type": "markdown",
   "metadata": {},
   "source": [
    "### Testing"
   ]
  },
  {
   "cell_type": "code",
   "execution_count": 24,
   "metadata": {},
   "outputs": [
    {
     "name": "stdout",
     "output_type": "stream",
     "text": [
      "mean top k accuracy: 0.00045013517778967166\n"
     ]
    }
   ],
   "source": [
    "rec_train_user_item_index = dict()\n",
    "for user_id in train_user_item_index.index.levels[0]:\n",
    "    rec_res = model.recommend(metadata['user_index'][user_id], train_matrix, N=10)\n",
    "    rec_res = [ele[0] for ele in rec_res]\n",
    "    rec_train_user_item_index[user_id] = rec_res\n",
    "topkbins = top_k_accuracy_bins(train_user_item_index, rec_train_user_item_index, 10, train_user_item_index, bins=1)"
   ]
  },
  {
   "cell_type": "code",
   "execution_count": 25,
   "metadata": {},
   "outputs": [
    {
     "data": {
      "text/plain": [
       "<matplotlib.axes._subplots.AxesSubplot at 0x12a064f28>"
      ]
     },
     "execution_count": 25,
     "metadata": {},
     "output_type": "execute_result"
    },
    {
     "data": {
      "image/png": "[encoded data removed]",
      "text/plain": [
       "<Figure size 432x288 with 1 Axes>"
      ]
     },
     "metadata": {
      "needs_background": "light"
     },
     "output_type": "display_data"
    }
   ],
   "source": [
    "topkbins.plot(kind='line')"
   ]
  },
  {
   "cell_type": "code",
   "execution_count": 26,
   "metadata": {},
   "outputs": [
    {
     "name": "stdout",
     "output_type": "stream",
     "text": [
      "mean top k accuracy: 3.0784954776901432e-06\n"
     ]
    }
   ],
   "source": [
    "rec_test_user_item_index = dict()\n",
    "for user_id in test_user_item_index.index.levels[0]:\n",
    "    rec_res = model.recommend(metadata['user_index'][user_id], train_matrix, N=10, filter_items=train_user_item_index[user_id].values.tolist())\n",
    "    rec_res = [ele[0] for ele in rec_res]\n",
    "    rec_test_user_item_index[user_id] = rec_res\n",
    "topkbins = top_k_accuracy_bins(test_user_item_index, rec_test_user_item_index, 10, train_user_item_index, bins=1)"
   ]
  },
  {
   "cell_type": "code",
   "execution_count": 27,
   "metadata": {},
   "outputs": [
    {
     "data": {
      "text/plain": [
       "<matplotlib.axes._subplots.AxesSubplot at 0x1317567b8>"
      ]
     },
     "execution_count": 27,
     "metadata": {},
     "output_type": "execute_result"
    },
    {
     "data": {
      "image/png": "[encoded data removed]",
      "text/plain": [
       "<Figure size 432x288 with 1 Axes>"
      ]
     },
     "metadata": {
      "needs_background": "light"
     },
     "output_type": "display_data"
    }
   ],
   "source": [
    "topkbins.plot(kind='line')"
   ]
  },
  {
   "cell_type": "code",
   "execution_count": null,
   "metadata": {},
   "outputs": [],
   "source": []
  }
 ],
 "metadata": {
  "kernelspec": {
   "display_name": "Python 3",
   "language": "python",
   "name": "python3"
  },
  "language_info": {
   "codemirror_mode": {
    "name": "ipython",
    "version": 3
   },
   "file_extension": ".py",
   "mimetype": "text/x-python",
   "name": "python",
   "nbconvert_exporter": "python",
   "pygments_lexer": "ipython3",
   "version": "3.6.0"
  }
 },
 "nbformat": 4,
 "nbformat_minor": 1
}
