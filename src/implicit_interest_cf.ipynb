{
 "cells": [
  {
   "cell_type": "code",
   "execution_count": 1,
   "metadata": {},
   "outputs": [],
   "source": [
    "import pandas as pd\n",
    "import os\n",
    "import numpy as np\n",
    "import seaborn as sns\n",
    "import json\n",
    "import time\n",
    "import logging\n",
    "\n",
    "import implicit\n",
    "from implicit import bpr, als, nearest_neighbours, approximate_als\n",
    "\n",
    "from scipy.sparse import coo_matrix, csr_matrix, save_npz, load_npz\n",
    "\n",
    "logger = logging.getLogger()\n",
    "fhandler = logging.FileHandler(filename='mylog.log', mode='a')\n",
    "formatter = logging.Formatter('%(asctime)s - %(name)s - %(levelname)s - %(message)s')\n",
    "fhandler.setFormatter(formatter)\n",
    "logger.addHandler(fhandler)\n",
    "logger.setLevel(logging.DEBUG)"
   ]
  },
  {
   "cell_type": "markdown",
   "metadata": {},
   "source": [
    "# Load Data"
   ]
  },
  {
   "cell_type": "code",
   "execution_count": 2,
   "metadata": {},
   "outputs": [],
   "source": [
    "DATA_FOLDER = \"../input\"\n",
    "TMP_FOLDER = os.path.join(DATA_FOLDER, \"tmp\")\n",
    "IMPLICIT_FOLDER = os.path.join(TMP_FOLDER, 'implicit_interest')\n",
    "\n",
    "train_matrix_file_name = 'train_matrix.npz'\n",
    "test_csv_file_name = 'test_interactions.csv'\n",
    "train_csv_file_name = 'train_interactions.csv'\n",
    "metadata_file_name = 'metadata.json'"
   ]
  },
  {
   "cell_type": "code",
   "execution_count": 3,
   "metadata": {},
   "outputs": [],
   "source": [
    "train_matrix = load_npz(os.path.join(IMPLICIT_FOLDER, train_matrix_file_name))\n",
    "test_df = pd.read_csv(os.path.join(IMPLICIT_FOLDER, test_csv_file_name), dtype=str)\n",
    "train_df = pd.read_csv(os.path.join(IMPLICIT_FOLDER, train_csv_file_name), dtype=str)\n",
    "with open(os.path.join(IMPLICIT_FOLDER, metadata_file_name), 'r') as fp:\n",
    "    metadata = json.load(fp)"
   ]
  },
  {
   "cell_type": "markdown",
   "metadata": {},
   "source": [
    "# Train and Validate Model"
   ]
  },
  {
   "cell_type": "code",
   "execution_count": 4,
   "metadata": {},
   "outputs": [],
   "source": [
    "def top_k_accuracy(ground_series, rec_dict, k):\n",
    "    if k == 0:\n",
    "        return 0\n",
    "    \n",
    "    acc = 0\n",
    "    count = 0\n",
    "    for user_id in test_user_item_index.index.levels[0]:\n",
    "        top_k_rec = rec_dict[user_id][0:min(k, len(rec_dict[user_id]))]\n",
    "        if ground_series[user_id].shape[0] == 0:\n",
    "            continue\n",
    "        \n",
    "        # number of intersetion items\n",
    "        num_match = ground_series[user_id].isin(top_k_rec).map(lambda ele: 1.0 if ele else 0.0).sum()\n",
    "        \n",
    "        acc += num_match / min(len(top_k_rec), ground_series[user_id].shape[0])\n",
    "        \n",
    "        count += 1\n",
    "        \n",
    "    acc /= count\n",
    "    \n",
    "    return acc\n",
    "\n",
    "def top_k_accuracy_bins(ground_series, rec_dict, k, train_series, bins=5):\n",
    "    if k == 0:\n",
    "        return 0\n",
    "    \n",
    "    acc = dict()\n",
    "    count = dict()\n",
    "    for user_id in test_user_item_index.index.levels[0]:\n",
    "        top_k_rec = rec_dict[user_id][0:min(k, len(rec_dict[user_id]))]\n",
    "        if ground_series[user_id].shape[0] == 0:\n",
    "            continue\n",
    "            \n",
    "        bin_index = (train_series[user_id].shape[0] // bins) * bins\n",
    "        \n",
    "        # number of intersetion items\n",
    "        num_match = ground_series[user_id].isin(top_k_rec).map(lambda ele: 1.0 if ele else 0.0).sum()\n",
    "        \n",
    "        if bin_index not in acc:\n",
    "            acc[bin_index] = 0.0\n",
    "            count[bin_index] = 0\n",
    "        acc[bin_index] += num_match / min(len(top_k_rec), ground_series[user_id].shape[0])\n",
    "        count[bin_index] += 1\n",
    "        \n",
    "    for bin_index in acc.keys():\n",
    "        acc[bin_index] /= count[bin_index]\n",
    "    \n",
    "    return pd.Series(acc, index=sorted(list(acc.keys())))"
   ]
  },
  {
   "cell_type": "code",
   "execution_count": 5,
   "metadata": {},
   "outputs": [],
   "source": [
    "test_user_item = test_df.groupby('USER_ID').apply(lambda group: group['ITEM_ID'])\n",
    "test_user_item_index = test_user_item.map(lambda ele: metadata['item_index'][ele])"
   ]
  },
  {
   "cell_type": "code",
   "execution_count": 6,
   "metadata": {},
   "outputs": [],
   "source": [
    "train_user_item = train_df.groupby('USER_ID').apply(lambda group: group['ITEM_ID'])\n",
    "train_user_item_index = train_user_item.map(lambda ele: metadata['item_index'][ele])"
   ]
  },
  {
   "cell_type": "code",
   "execution_count": 7,
   "metadata": {},
   "outputs": [
    {
     "data": {
      "text/plain": [
       "Index(['00012cdf-8ff9-4c9d-a7db-11b9c4b6eede',\n",
       "       '00014a37-91ac-4453-8c27-87df46a9959f',\n",
       "       '000186cc-93aa-4668-9e56-242944ec03c5',\n",
       "       '0001bade-a221-44d7-b5b0-cbdc1e467b9b',\n",
       "       '0001d25b-19ae-4d51-9de3-4c921ddf5ea5',\n",
       "       '0001ded5-708a-4ab6-ba0c-1d9084a968a9',\n",
       "       '00021c2c-0a45-4362-b0fd-482db3186b6e',\n",
       "       '000246d5-530e-4f3e-b4e7-81de4369aad4',\n",
       "       '00027cb1-9945-401b-b80d-a25efa418093',\n",
       "       '0002a7eb-b8e9-4bd4-94d0-45c2e6541384',\n",
       "       ...\n",
       "       '26644ff6-a1b1-45cb-a75c-f3e37453d632',\n",
       "       '2664aa5b-5cd9-4bc7-9ef8-7f82b8441066',\n",
       "       '2664ae12-8a77-4338-b7d7-56b8f71b6df6',\n",
       "       '26653649-0c7d-4840-ab49-9c8e1d7666e1',\n",
       "       '2665379b-cf53-4a0f-bcce-6d4491568fc2',\n",
       "       '26656774-2b3a-44ed-b737-874fff4d93c2',\n",
       "       '26658082-0ec5-4c28-a86a-a75e84cc6c54',\n",
       "       '2665ce36-a9d9-45fc-a0bf-13441e55dcaa',\n",
       "       '26661bd5-3b18-47c4-8b50-b0b93956a96b',\n",
       "       '266653ea-69dd-4c6e-93f3-ff906380e7b0'],\n",
       "      dtype='object', name='USER_ID', length=31133)"
      ]
     },
     "execution_count": 7,
     "metadata": {},
     "output_type": "execute_result"
    }
   ],
   "source": [
    "test_user_item_index.index.levels[0]"
   ]
  },
  {
   "cell_type": "markdown",
   "metadata": {},
   "source": [
    "## BPR"
   ]
  },
  {
   "cell_type": "markdown",
   "metadata": {},
   "source": [
    "### Training"
   ]
  },
  {
   "cell_type": "code",
   "execution_count": 8,
   "metadata": {},
   "outputs": [],
   "source": [
    "model_name = \"bpr\""
   ]
  },
  {
   "cell_type": "code",
   "execution_count": 9,
   "metadata": {},
   "outputs": [],
   "source": [
    "model = bpr.BayesianPersonalizedRanking(iterations=1000, factors=100)"
   ]
  },
  {
   "cell_type": "code",
   "execution_count": 10,
   "metadata": {},
   "outputs": [
    {
     "name": "stderr",
     "output_type": "stream",
     "text": [
      "100%|██████████| 1000/1000 [01:13<00:00, 13.67it/s, correct=99.88%, skipped=0.24%]"
     ]
    },
    {
     "name": "stdout",
     "output_type": "stream",
     "text": [
      "trained model '%s' in %s bpr 73.78462886810303\n"
     ]
    },
    {
     "name": "stderr",
     "output_type": "stream",
     "text": [
      "\n"
     ]
    }
   ],
   "source": [
    "start = time.time()\n",
    "model.fit(train_matrix)\n",
    "print(\"trained model '%s' in %s\", model_name, time.time() - start)"
   ]
  },
  {
   "cell_type": "markdown",
   "metadata": {},
   "source": [
    "### Testing"
   ]
  },
  {
   "cell_type": "code",
   "execution_count": 11,
   "metadata": {},
   "outputs": [],
   "source": [
    "rec_train_user_item_index = dict()\n",
    "for user_id in train_user_item_index.index.levels[0]:\n",
    "    rec_res = model.recommend(metadata['user_index'][user_id], train_matrix, N=10)\n",
    "    rec_res = [ele[0] for ele in rec_res]\n",
    "    rec_train_user_item_index[user_id] = rec_res"
   ]
  },
  {
   "cell_type": "code",
   "execution_count": 12,
   "metadata": {},
   "outputs": [
    {
     "data": {
      "text/plain": [
       "0.8028668732560104"
      ]
     },
     "execution_count": 12,
     "metadata": {},
     "output_type": "execute_result"
    }
   ],
   "source": [
    "top_k_accuracy(train_user_item_index, rec_train_user_item_index, 10)"
   ]
  },
  {
   "cell_type": "code",
   "execution_count": 13,
   "metadata": {},
   "outputs": [
    {
     "data": {
      "text/plain": [
       "<matplotlib.axes._subplots.AxesSubplot at 0x112e7be48>"
      ]
     },
     "execution_count": 13,
     "metadata": {},
     "output_type": "execute_result"
    },
    {
     "data": {
      "image/png": "[encoded data removed]",
      "text/plain": [
       "<Figure size 432x288 with 1 Axes>"
      ]
     },
     "metadata": {
      "needs_background": "light"
     },
     "output_type": "display_data"
    }
   ],
   "source": [
    "topkbins = top_k_accuracy_bins(train_user_item_index, rec_train_user_item_index, 10, train_user_item_index, bins=10)\n",
    "topkbins.plot(kind='line')"
   ]
  },
  {
   "cell_type": "code",
   "execution_count": 14,
   "metadata": {},
   "outputs": [],
   "source": [
    "rec_test_user_item_index = dict()\n",
    "for user_id in test_user_item_index.index.levels[0]:\n",
    "    rec_res = model.recommend(metadata['user_index'][user_id], train_matrix, N=10, filter_items=train_user_item_index[user_id].values.tolist())\n",
    "    rec_res = [ele[0] for ele in rec_res]\n",
    "    rec_test_user_item_index[user_id] = rec_res"
   ]
  },
  {
   "cell_type": "code",
   "execution_count": 15,
   "metadata": {},
   "outputs": [
    {
     "data": {
      "text/plain": [
       "0.16904816713139018"
      ]
     },
     "execution_count": 15,
     "metadata": {},
     "output_type": "execute_result"
    }
   ],
   "source": [
    "top_k_accuracy(test_user_item_index, rec_test_user_item_index, 10)"
   ]
  },
  {
   "cell_type": "code",
   "execution_count": 16,
   "metadata": {},
   "outputs": [
    {
     "data": {
      "text/plain": [
       "<matplotlib.axes._subplots.AxesSubplot at 0x1203d0be0>"
      ]
     },
     "execution_count": 16,
     "metadata": {},
     "output_type": "execute_result"
    },
    {
     "data": {
      "image/png": "[encoded data removed]",
      "text/plain": [
       "<Figure size 432x288 with 1 Axes>"
      ]
     },
     "metadata": {
      "needs_background": "light"
     },
     "output_type": "display_data"
    }
   ],
   "source": [
    "topkbins = top_k_accuracy_bins(test_user_item_index, rec_test_user_item_index, 10, train_user_item_index, bins=30)\n",
    "topkbins.plot(kind='line')"
   ]
  },
  {
   "cell_type": "markdown",
   "metadata": {},
   "source": [
    "## ALS"
   ]
  },
  {
   "cell_type": "markdown",
   "metadata": {},
   "source": [
    "### Training"
   ]
  },
  {
   "cell_type": "code",
   "execution_count": 17,
   "metadata": {},
   "outputs": [],
   "source": [
    "model_name = \"als\""
   ]
  },
  {
   "cell_type": "code",
   "execution_count": 18,
   "metadata": {},
   "outputs": [],
   "source": [
    "model = als.AlternatingLeastSquares(calculate_training_loss=True, iterations=50, factors=100)"
   ]
  },
  {
   "cell_type": "code",
   "execution_count": 19,
   "metadata": {},
   "outputs": [
    {
     "name": "stderr",
     "output_type": "stream",
     "text": [
      "100%|██████████| 50.0/50 [00:24<00:00,  1.97it/s, loss=5.63e-5]"
     ]
    },
    {
     "name": "stdout",
     "output_type": "stream",
     "text": [
      "trained model '%s' in %s als 24.940964937210083\n"
     ]
    },
    {
     "name": "stderr",
     "output_type": "stream",
     "text": [
      "\n"
     ]
    }
   ],
   "source": [
    "start = time.time()\n",
    "model.fit(train_matrix)\n",
    "print(\"trained model '%s' in %s\", model_name, time.time() - start)"
   ]
  },
  {
   "cell_type": "markdown",
   "metadata": {},
   "source": [
    "### Testing"
   ]
  },
  {
   "cell_type": "code",
   "execution_count": 20,
   "metadata": {},
   "outputs": [],
   "source": [
    "rec_train_user_item_index = dict()\n",
    "for user_id in train_user_item_index.index.levels[0]:\n",
    "    rec_res = model.recommend(metadata['user_index'][user_id], train_matrix, N=10, filter_already_liked_items=False)\n",
    "    rec_res = [ele[0] for ele in rec_res]\n",
    "    rec_train_user_item_index[user_id] = rec_res"
   ]
  },
  {
   "cell_type": "code",
   "execution_count": 21,
   "metadata": {},
   "outputs": [
    {
     "data": {
      "text/plain": [
       "0.1495977320038591"
      ]
     },
     "execution_count": 21,
     "metadata": {},
     "output_type": "execute_result"
    }
   ],
   "source": [
    "top_k_accuracy(train_user_item_index, rec_train_user_item_index, 10)"
   ]
  },
  {
   "cell_type": "code",
   "execution_count": 22,
   "metadata": {},
   "outputs": [],
   "source": [
    "rec_test_user_item_index = dict()\n",
    "for user_id in test_user_item_index.index.levels[0]:\n",
    "    rec_res = model.recommend(metadata['user_index'][user_id], train_matrix, N=10, filter_items=train_user_item_index[user_id].values.tolist())\n",
    "    rec_res = [ele[0] for ele in rec_res]\n",
    "    rec_test_user_item_index[user_id] = rec_res"
   ]
  },
  {
   "cell_type": "code",
   "execution_count": 23,
   "metadata": {},
   "outputs": [
    {
     "data": {
      "text/plain": [
       "0.09151674663591054"
      ]
     },
     "execution_count": 23,
     "metadata": {},
     "output_type": "execute_result"
    }
   ],
   "source": [
    "top_k_accuracy(test_user_item_index, rec_test_user_item_index, 10)"
   ]
  },
  {
   "cell_type": "code",
   "execution_count": null,
   "metadata": {},
   "outputs": [],
   "source": []
  },
  {
   "cell_type": "code",
   "execution_count": null,
   "metadata": {},
   "outputs": [],
   "source": []
  }
 ],
 "metadata": {
  "kernelspec": {
   "display_name": "Python 3",
   "language": "python",
   "name": "python3"
  },
  "language_info": {
   "codemirror_mode": {
    "name": "ipython",
    "version": 3
   },
   "file_extension": ".py",
   "mimetype": "text/x-python",
   "name": "python",
   "nbconvert_exporter": "python",
   "pygments_lexer": "ipython3",
   "version": "3.6.0"
  }
 },
 "nbformat": 4,
 "nbformat_minor": 1
}
